{
 "cells": [
  {
   "cell_type": "code",
   "execution_count": 42,
   "metadata": {
    "collapsed": true
   },
   "outputs": [],
   "source": [
    "import pandas as pd\n",
    "import matplotlib.pyplot as plt\n",
    "%matplotlib inline\n",
    "plt.rcParams['figure.figsize'] = (10, 6)"
   ]
  },
  {
   "cell_type": "code",
   "execution_count": 38,
   "metadata": {},
   "outputs": [],
   "source": [
    "def get_one_iteration_data(data, iter_num):\n",
    "    return data.loc[data.iteration_num == iter_num]\n",
    "\n",
    "def sort_by(data, by='fitness', ascending=True):\n",
    "    return data.sort_values(by=by, ascending=ascending)\n",
    "\n",
    "def get_all_best(data, iter_size=20):\n",
    "    bests = pd.DataFrame()\n",
    "    for iter_num in range(iter_size):\n",
    "        iter_data = get_one_iteration_data(data, iter_num)\n",
    "        iter_data = sort_by(iter_data, 'fitness')\n",
    "        bests = bests.append(iter_data.iloc[0], ignore_index=True)\n",
    "    return bests\n",
    "\n",
    "def plot_scatter_one_iter(data, iter_num,col_names):\n",
    "    iter_data = sort_by(get_one_iteration_data(data, iter_num),ascending=False)\n",
    "        \n",
    "    for col_name in col_names:\n",
    "        plt.scatter(x = list(range(iter_data.shape[0])), y=iter_data[col_name].values, label=col_name)\n",
    "    plt.legend()"
   ]
  },
  {
   "cell_type": "code",
   "execution_count": 11,
   "metadata": {
    "collapsed": true
   },
   "outputs": [],
   "source": [
    "history = pd.read_csv('iteration_history_20.csv')"
   ]
  },
  {
   "cell_type": "code",
   "execution_count": 20,
   "metadata": {},
   "outputs": [
    {
     "data": {
      "text/html": [
       "<div>\n",
       "<style>\n",
       "    .dataframe thead tr:only-child th {\n",
       "        text-align: right;\n",
       "    }\n",
       "\n",
       "    .dataframe thead th {\n",
       "        text-align: left;\n",
       "    }\n",
       "\n",
       "    .dataframe tbody tr th {\n",
       "        vertical-align: top;\n",
       "    }\n",
       "</style>\n",
       "<table border=\"1\" class=\"dataframe\">\n",
       "  <thead>\n",
       "    <tr style=\"text-align: right;\">\n",
       "      <th></th>\n",
       "      <th>E_norm</th>\n",
       "      <th>J_crit_norm</th>\n",
       "      <th>J_norm</th>\n",
       "      <th>Lprime</th>\n",
       "      <th>acc_max</th>\n",
       "      <th>energy</th>\n",
       "      <th>f_armature</th>\n",
       "      <th>fitness</th>\n",
       "      <th>genom_0</th>\n",
       "      <th>genom_1</th>\n",
       "      <th>...</th>\n",
       "      <th>j</th>\n",
       "      <th>mass</th>\n",
       "      <th>velocity</th>\n",
       "      <th>x1</th>\n",
       "      <th>x2</th>\n",
       "      <th>x3</th>\n",
       "      <th>x4</th>\n",
       "      <th>x5</th>\n",
       "      <th>x6</th>\n",
       "      <th>iteration_num</th>\n",
       "    </tr>\n",
       "  </thead>\n",
       "  <tbody>\n",
       "    <tr>\n",
       "      <th>12</th>\n",
       "      <td>0.620813</td>\n",
       "      <td>0.370968</td>\n",
       "      <td>0.434032</td>\n",
       "      <td>3.920414e-07</td>\n",
       "      <td>1.970901e+06</td>\n",
       "      <td>62081.309284</td>\n",
       "      <td>196020.717429</td>\n",
       "      <td>0.557749</td>\n",
       "      <td>0.75</td>\n",
       "      <td>0.25</td>\n",
       "      <td>...</td>\n",
       "      <td>5.381993e+09</td>\n",
       "      <td>0.074457</td>\n",
       "      <td>1117.318089</td>\n",
       "      <td>8.25</td>\n",
       "      <td>2.75</td>\n",
       "      <td>1.50</td>\n",
       "      <td>7.68</td>\n",
       "      <td>16.80</td>\n",
       "      <td>24.96</td>\n",
       "      <td>0</td>\n",
       "    </tr>\n",
       "    <tr>\n",
       "      <th>1</th>\n",
       "      <td>0.517462</td>\n",
       "      <td>0.370968</td>\n",
       "      <td>0.377096</td>\n",
       "      <td>3.843650e-07</td>\n",
       "      <td>2.228347e+06</td>\n",
       "      <td>51746.189440</td>\n",
       "      <td>192182.481639</td>\n",
       "      <td>0.511333</td>\n",
       "      <td>0.42</td>\n",
       "      <td>0.23</td>\n",
       "      <td>...</td>\n",
       "      <td>4.675996e+09</td>\n",
       "      <td>0.061244</td>\n",
       "      <td>1095.440145</td>\n",
       "      <td>4.62</td>\n",
       "      <td>2.53</td>\n",
       "      <td>5.35</td>\n",
       "      <td>8.16</td>\n",
       "      <td>16.32</td>\n",
       "      <td>23.52</td>\n",
       "      <td>0</td>\n",
       "    </tr>\n",
       "    <tr>\n",
       "      <th>19</th>\n",
       "      <td>0.568989</td>\n",
       "      <td>0.370968</td>\n",
       "      <td>0.456386</td>\n",
       "      <td>3.931850e-07</td>\n",
       "      <td>2.169286e+06</td>\n",
       "      <td>56898.865358</td>\n",
       "      <td>196592.488488</td>\n",
       "      <td>0.483570</td>\n",
       "      <td>0.64</td>\n",
       "      <td>0.22</td>\n",
       "      <td>...</td>\n",
       "      <td>5.659187e+09</td>\n",
       "      <td>0.065625</td>\n",
       "      <td>1120.577184</td>\n",
       "      <td>7.04</td>\n",
       "      <td>2.42</td>\n",
       "      <td>3.04</td>\n",
       "      <td>12.00</td>\n",
       "      <td>9.12</td>\n",
       "      <td>25.44</td>\n",
       "      <td>0</td>\n",
       "    </tr>\n",
       "    <tr>\n",
       "      <th>16</th>\n",
       "      <td>0.478505</td>\n",
       "      <td>0.370968</td>\n",
       "      <td>0.379831</td>\n",
       "      <td>3.895238e-07</td>\n",
       "      <td>2.508099e+06</td>\n",
       "      <td>47850.541374</td>\n",
       "      <td>194761.881478</td>\n",
       "      <td>0.469642</td>\n",
       "      <td>0.47</td>\n",
       "      <td>0.43</td>\n",
       "      <td>...</td>\n",
       "      <td>4.709908e+09</td>\n",
       "      <td>0.052653</td>\n",
       "      <td>1110.142724</td>\n",
       "      <td>5.17</td>\n",
       "      <td>4.73</td>\n",
       "      <td>2.60</td>\n",
       "      <td>24.48</td>\n",
       "      <td>6.24</td>\n",
       "      <td>12.96</td>\n",
       "      <td>0</td>\n",
       "    </tr>\n",
       "    <tr>\n",
       "      <th>11</th>\n",
       "      <td>0.461291</td>\n",
       "      <td>0.370968</td>\n",
       "      <td>0.345513</td>\n",
       "      <td>3.839145e-07</td>\n",
       "      <td>2.490910e+06</td>\n",
       "      <td>46129.110946</td>\n",
       "      <td>191957.225405</td>\n",
       "      <td>0.461291</td>\n",
       "      <td>0.24</td>\n",
       "      <td>0.59</td>\n",
       "      <td>...</td>\n",
       "      <td>4.284361e+09</td>\n",
       "      <td>0.052063</td>\n",
       "      <td>1094.156185</td>\n",
       "      <td>2.64</td>\n",
       "      <td>6.49</td>\n",
       "      <td>3.37</td>\n",
       "      <td>24.96</td>\n",
       "      <td>9.60</td>\n",
       "      <td>13.44</td>\n",
       "      <td>0</td>\n",
       "    </tr>\n",
       "  </tbody>\n",
       "</table>\n",
       "<p>5 rows × 24 columns</p>\n",
       "</div>"
      ],
      "text/plain": [
       "      E_norm  J_crit_norm    J_norm        Lprime       acc_max        energy  \\\n",
       "12  0.620813     0.370968  0.434032  3.920414e-07  1.970901e+06  62081.309284   \n",
       "1   0.517462     0.370968  0.377096  3.843650e-07  2.228347e+06  51746.189440   \n",
       "19  0.568989     0.370968  0.456386  3.931850e-07  2.169286e+06  56898.865358   \n",
       "16  0.478505     0.370968  0.379831  3.895238e-07  2.508099e+06  47850.541374   \n",
       "11  0.461291     0.370968  0.345513  3.839145e-07  2.490910e+06  46129.110946   \n",
       "\n",
       "       f_armature   fitness  genom_0  genom_1      ...                   j  \\\n",
       "12  196020.717429  0.557749     0.75     0.25      ...        5.381993e+09   \n",
       "1   192182.481639  0.511333     0.42     0.23      ...        4.675996e+09   \n",
       "19  196592.488488  0.483570     0.64     0.22      ...        5.659187e+09   \n",
       "16  194761.881478  0.469642     0.47     0.43      ...        4.709908e+09   \n",
       "11  191957.225405  0.461291     0.24     0.59      ...        4.284361e+09   \n",
       "\n",
       "        mass     velocity    x1    x2    x3     x4     x5     x6  \\\n",
       "12  0.074457  1117.318089  8.25  2.75  1.50   7.68  16.80  24.96   \n",
       "1   0.061244  1095.440145  4.62  2.53  5.35   8.16  16.32  23.52   \n",
       "19  0.065625  1120.577184  7.04  2.42  3.04  12.00   9.12  25.44   \n",
       "16  0.052653  1110.142724  5.17  4.73  2.60  24.48   6.24  12.96   \n",
       "11  0.052063  1094.156185  2.64  6.49  3.37  24.96   9.60  13.44   \n",
       "\n",
       "    iteration_num  \n",
       "12              0  \n",
       "1               0  \n",
       "19              0  \n",
       "16              0  \n",
       "11              0  \n",
       "\n",
       "[5 rows x 24 columns]"
      ]
     },
     "execution_count": 20,
     "metadata": {},
     "output_type": "execute_result"
    }
   ],
   "source": [
    "iter_0 = get_one_iteration_data(history, 0)\n",
    "sorted_iter_0 = sort_by(iter_0, ascending=False)\n",
    "sorted_iter_0.head()"
   ]
  },
  {
   "cell_type": "code",
   "execution_count": 56,
   "metadata": {},
   "outputs": [
    {
     "data": {
      "image/png": "[encoded data removed]",
      "text/plain": [
       "<matplotlib.figure.Figure at 0x20b58e06ef0>"
      ]
     },
     "metadata": {},
     "output_type": "display_data"
    }
   ],
   "source": [
    "plot_scatter_one_iter(history,2,['fitness','E_norm', 'J_norm'])"
   ]
  },
  {
   "cell_type": "code",
   "execution_count": 46,
   "metadata": {
    "collapsed": true
   },
   "outputs": [
    {
     "data": {
      "image/png": "[encoded data removed]",
      "text/plain": [
       "<matplotlib.figure.Figure at 0x20b58e14588>"
      ]
     },
     "metadata": {},
     "output_type": "display_data"
    }
   ],
   "source": [
    "plot_scatter_one_iter(history,3,['fitness','E_norm', 'J_norm'])"
   ]
  },
  {
   "cell_type": "code",
   "execution_count": 50,
   "metadata": {},
   "outputs": [
    {
     "data": {
      "text/plain": [
       "<matplotlib.collections.PathCollection at 0x20b58e6b160>"
      ]
     },
     "execution_count": 50,
     "metadata": {},
     "output_type": "execute_result"
    },
    {
     "data": {
      "image/png": "[encoded data removed]",
      "text/plain": [
       "<matplotlib.figure.Figure at 0x20b58f5bb38>"
      ]
     },
     "metadata": {},
     "output_type": "display_data"
    }
   ],
   "source": [
    "iter_data = sort_by(get_one_iteration_data(history, 1),ascending=False)\n",
    "plt.scatter(x = list(range(iter_data.shape[0])), y=iter_data['energy'])"
   ]
  },
  {
   "cell_type": "code",
   "execution_count": 51,
   "metadata": {},
   "outputs": [
    {
     "data": {
      "text/plain": [
       "<matplotlib.collections.PathCollection at 0x20b5759c908>"
      ]
     },
     "execution_count": 51,
     "metadata": {},
     "output_type": "execute_result"
    },
    {
     "data": {
      "image/png": "[encoded data removed]",
      "text/plain": [
       "<matplotlib.figure.Figure at 0x20b5757c860>"
      ]
     },
     "metadata": {},
     "output_type": "display_data"
    }
   ],
   "source": [
    "iter_data = sort_by(get_one_iteration_data(history, 1),ascending=False)\n",
    "plt.scatter(x = list(range(iter_data.shape[0])), y=iter_data['j'])"
   ]
  },
  {
   "cell_type": "code",
   "execution_count": null,
   "metadata": {
    "collapsed": true
   },
   "outputs": [],
   "source": []
  }
 ],
 "metadata": {
  "kernelspec": {
   "display_name": "Python 3",
   "language": "python",
   "name": "python3"
  },
  "language_info": {
   "codemirror_mode": {
    "name": "ipython",
    "version": 3
   },
   "file_extension": ".py",
   "mimetype": "text/x-python",
   "name": "python",
   "nbconvert_exporter": "python",
   "pygments_lexer": "ipython3",
   "version": "3.6.1"
  }
 },
 "nbformat": 4,
 "nbformat_minor": 2
}
